{
 "cells": [
  {
   "cell_type": "markdown",
   "metadata": {},
   "source": [
    "**Shell side:**\n",
    "\n",
    "$T_1$ = Cool Fluid Inlet Shell\n",
    "\n",
    "$T_2$ = Cool Fluid Outlet Shell\n",
    "\n",
    "\n",
    "**Tube side:**\n",
    "\n",
    "$t_1$ = Hot Fluid Inlet Shell\n",
    "\n",
    "$t_2$ = Hot Fluid Outlet Shell\n",
    "\n",
    "\n",
    "LMTD = \\frac{}{}"
   ]
  },
  {
   "cell_type": "code",
   "execution_count": null,
   "metadata": {},
   "outputs": [],
   "source": []
  },
  {
   "cell_type": "code",
   "execution_count": 1,
   "metadata": {},
   "outputs": [
    {
     "name": "stdout",
     "output_type": "stream",
     "text": [
      "The Log Mean Temperature Difference (LMTD) is: 39.15\n"
     ]
    }
   ],
   "source": [
    "import math\n",
    "\n",
    "def calculate_lmtd(T1, T2, t1, t2):\n",
    "    delta_t1 = T1 - t2\n",
    "    delta_t2 = T2 - t1\n",
    "\n",
    "    # Check if delta_t1 and delta_t2 are equal (to avoid division by zero)\n",
    "    if math.isclose(delta_t1, delta_t2):\n",
    "        return delta_t1  # or delta_t2, they're the same in this case\n",
    "\n",
    "    lmtd = (delta_t1 - delta_t2) / math.log(delta_t1 / delta_t2)\n",
    "    return lmtd\n",
    "\n",
    "# Example usage\n",
    "T1 = 100  # Hot fluid inlet temperature\n",
    "T2 = 60   # Hot fluid outlet temperature\n",
    "t1 = 30   # Cold fluid inlet temperature\n",
    "t2 = 50   # Cold fluid outlet temperature\n",
    "\n",
    "result = calculate_lmtd(T1, T2, t1, t2)\n",
    "print(f\"The Log Mean Temperature Difference (LMTD) is: {result:.2f}\")"
   ]
  },
  {
   "cell_type": "code",
   "execution_count": 3,
   "metadata": {},
   "outputs": [
    {
     "name": "stdout",
     "output_type": "stream",
     "text": [
      "The Log Mean Temperature Difference (LMTD) is: 111.07\n"
     ]
    }
   ],
   "source": [
    "# Example usage\n",
    "T1 = 200  # Hot fluid inlet temperature\n",
    "T2 = 80   # Hot fluid outlet temperature\n",
    "t1 = 15   # Cold fluid inlet temperature\n",
    "t2 = 25   # Cold fluid outlet temperature\n",
    "\n",
    "result = calculate_lmtd(T1, T2, t1, t2)\n",
    "print(f\"The Log Mean Temperature Difference (LMTD) is: {result:.2f}\")"
   ]
  },
  {
   "cell_type": "code",
   "execution_count": null,
   "metadata": {},
   "outputs": [],
   "source": []
  }
 ],
 "metadata": {
  "kernelspec": {
   "display_name": "OM-dymos4",
   "language": "python",
   "name": "python3"
  },
  "language_info": {
   "codemirror_mode": {
    "name": "ipython",
    "version": 3
   },
   "file_extension": ".py",
   "mimetype": "text/x-python",
   "name": "python",
   "nbconvert_exporter": "python",
   "pygments_lexer": "ipython3",
   "version": "3.12.3"
  }
 },
 "nbformat": 4,
 "nbformat_minor": 2
}
